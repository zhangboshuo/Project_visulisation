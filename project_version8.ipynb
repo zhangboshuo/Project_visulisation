{
 "cells": [
  {
   "cell_type": "code",
   "execution_count": 69,
   "id": "9bcf85e7",
   "metadata": {},
   "outputs": [],
   "source": [
    "import geoplot as gplt\n",
    "import geopandas as gpd\n",
    "import pandas as pd\n",
    "import matplotlib.pyplot as plt\n",
    "import numpy as np\n",
    "import matplotlib as mpl\n",
    "import copy\n",
    "\n",
    "%matplotlib inline"
   ]
  },
  {
   "cell_type": "code",
   "execution_count": 71,
   "id": "94a313e5",
   "metadata": {},
   "outputs": [
    {
     "data": {
      "image/png": "[encoded data removed]",
      "text/plain": [
       "<Figure size 432x432 with 2 Axes>"
      ]
     },
     "metadata": {
      "needs_background": "light"
     },
     "output_type": "display_data"
    },
    {
     "data": {
      "image/png": "[encoded data removed]",
      "text/plain": [
       "<Figure size 432x432 with 2 Axes>"
      ]
     },
     "metadata": {
      "needs_background": "light"
     },
     "output_type": "display_data"
    }
   ],
   "source": [
    "china = gpd.read_file('china-shapefiles/china.shp',\n",
    "                      encoding='utf-8')# read shapefile\n",
    "#print(china)\n",
    "china = china.dissolve(by='OWNER').reset_index(drop=False)#Since each row of data is a separate face, it is fused according to its provincial column owner\n",
    "albers_proj = '+proj=aea +lat_1=25 +lat_2=47 +lon_0=105'#Projection\n",
    "\n",
    "df_used = pd.read_excel('data_used.xlsx')  # read the province list\n",
    "df_used_name = pd.DataFrame(df_used, columns=[\"ProvinceName1\", \"ProvinceName2\", \"ProvinceName3\", \"ProvinceName4\"])\n",
    "df_used_EnglishName = pd.DataFrame(df_used,\n",
    "                                   columns=[\"ProvinceEnglishName1\", \"ProvinceEnglishName2\", \"ProvinceEnglishName3\",\n",
    "                                            \"ProvinceEnglishName4\"])\n",
    "df_used_number = pd.DataFrame(df_used, columns=[\"Data1\", \"Data2\", \"Data3\", \"Data4\"])#choose the data of each pair of figure\n",
    "#print(china)\n",
    "\n",
    "def getFigure_narrow(ax):\n",
    "    \n",
    "    data_with_geometry.to_crs(albers_proj).plot(ax=ax,#draw the map\n",
    "                                                     column='number',\n",
    "                                                     cmap=trunc_cmap,\n",
    "                                                     edgecolor='black',\n",
    "                                                     vmin=0,\n",
    "                                                     # vmax=1000,\n",
    "                                                     # legend=True,#\n",
    "                                                     #legend_kwds={'orientation': \"horizontal\"}\n",
    "                                                     )\n",
    "    fig1.colorbar(mpl.cm.ScalarMappable(# draw the colorbar\n",
    "        norm=mpl.colors.Normalize(vmin=0, vmax=data_with_geometry['number'].max()),#set the colour and the number\n",
    "        cmap=trunc_cmap),\n",
    "        cax=axColorBar_trunc,\n",
    "        orientation='horizontal',\n",
    "    )\n",
    "\n",
    "    ax.plot()\n",
    "    ax.axis('off')\n",
    "    figure_name=str(i+1)+\"_narrow.png\"# set figure name \n",
    "    fig1.savefig(figure_name, dpi=500)\n",
    "\n",
    "\n",
    "def getFigure_full(ax):\n",
    "    data_with_geometry.to_crs(albers_proj).plot(ax=ax,\n",
    "                                                     column='number',\n",
    "                                                     cmap=trunc_cmap,\n",
    "                                                     edgecolor='black',\n",
    "                                                     vmin=0,\n",
    "                                                     )\n",
    "\n",
    "    fig2.colorbar(mpl.cm.ScalarMappable(\n",
    "    norm=mpl.colors.Normalize(vmin=0, vmax=data_with_geometry['number'].max()*2),\n",
    "    cmap=full_cmap),\n",
    "    cax=axColorBar_full,\n",
    "    orientation='horizontal',\n",
    "    )\n",
    "    ax.plot()\n",
    "    ax.axis('off')\n",
    "    figure_name=str(i+1)+\"_full.png\"# set figure name \n",
    "    fig2.savefig(figure_name, dpi=500)\n",
    "\n",
    "fig1 = plt.figure(figsize=(6, 6))# plot 2 figures each time\n",
    "fig2 = plt.figure(figsize=(6, 6))\n",
    "\n",
    "\n",
    "for i in range(42):\n",
    "    fig1.clear()#Prevent picture overlap\n",
    "    fig2.clear()\n",
    "    axColorBar_trunc = fig1.add_axes([0.15, 0.4, 0.7, 0.03])#The location of the colourbar_trunc\n",
    "    axMain_trunc = fig1.add_axes([0.1, 0.5, 0.8, 0.3])#The location of the map\n",
    "\n",
    "    axColorBar_full = fig2.add_axes([0.15, 0.4, 0.7, 0.03])#The location of the colourbar_full\n",
    "    axMain_full = fig2.add_axes([0.1, 0.5, 0.8, 0.3])# The location of the map\n",
    "\n",
    "\n",
    "    df_now = pd.concat([pd.DataFrame(df_used_name.values[i]), pd.DataFrame(df_used_EnglishName.values[i]),\n",
    "                        pd.DataFrame(df_used_number.values[i])], axis=1)# get the data of each loop\n",
    "    df_now.columns = ['provinceName', 'provinceEnglishName', 'number']  # set the column\n",
    "    data_with_geometry = pd.merge(left=df_now,\n",
    "                                  right=china,\n",
    "                                  left_on='provinceName',\n",
    "                                  right_on='OWNER',\n",
    "                                  how='left'\n",
    "                                  ).loc[:, ['provinceName',\n",
    "                                            'provinceEnglishName',\n",
    "                                            'number',\n",
    "                                            'geometry'\n",
    "                                            ]]#connect the data with location\n",
    "    data_with_geometry = gpd.GeoDataFrame(data_with_geometry, crs='EPSG:4326')# from DataFrame to GroDataFrame\n",
    "\n",
    "    splits = 1000\n",
    "    halfway = int(splits / 2+1)\n",
    "    \n",
    "    if(i%6==0): #Cycle through colors\n",
    "        colour_values = mpl.cm.Reds(np.linspace(0, 1, splits))# list of rgb colours for full version. Returns num evenly spaced samples, calculated over the interval [start, stop]\n",
    "    elif(i%6==1):\n",
    "        colour_values = mpl.cm.Greys(np.linspace(0, 1, splits))\n",
    "    elif(i%6==2):\n",
    "        colour_values = mpl.cm.Purples(np.linspace(0, 1, splits))\n",
    "    elif(i%6==3):\n",
    "        colour_values = mpl.cm.Blues(np.linspace(0, 1, splits))\n",
    "    elif(i%6==4):\n",
    "        colour_values = mpl.cm.Greens(np.linspace(0, 1, splits))\n",
    "    elif(i%6==5):\n",
    "        colour_values = mpl.cm.Oranges(np.linspace(0, 1, splits))\n",
    "        \n",
    "    trunc_colours = colour_values[0:halfway, :]\n",
    "    trunc_cmap = mpl.colors.ListedColormap(trunc_colours)\n",
    "    full_colours = colour_values[:, :]\n",
    "    full_cmap = mpl.colors.ListedColormap(full_colours)\n",
    "\n",
    "    getFigure_narrow(axMain_trunc)\n",
    "    getFigure_full(axMain_full)\n",
    "    "
   ]
  },
  {
   "cell_type": "code",
   "execution_count": 62,
   "id": "b152a9f5",
   "metadata": {},
   "outputs": [
    {
     "name": "stdout",
     "output_type": "stream",
     "text": [
      "(0.9914186851211073, 0.550726643598616, 0.23277201076509035, 1.0)\n",
      "(0.9914186851211073, 0.550726643598616, 0.23277201076509035, 1.0)\n"
     ]
    }
   ],
   "source": [
    "fullsm = mpl.cm.ScalarMappable(norm=mpl.colors.Normalize(vmin=0, vmax=1600), cmap=full_cmap)\n",
    "truncsm = mpl.cm.ScalarMappable(norm=mpl.colors.Normalize(vmin=0, vmax=800), cmap=trunc_cmap)\n",
    "print(fullsm.to_rgba(800))\n",
    "print(truncsm.to_rgba(800))"
   ]
  },
  {
   "cell_type": "code",
   "execution_count": null,
   "id": "5982f2e1",
   "metadata": {},
   "outputs": [],
   "source": []
  }
 ],
 "metadata": {
  "kernelspec": {
   "display_name": "Python 3 (ipykernel)",
   "language": "python",
   "name": "python3"
  },
  "language_info": {
   "codemirror_mode": {
    "name": "ipython",
    "version": 3
   },
   "file_extension": ".py",
   "mimetype": "text/x-python",
   "name": "python",
   "nbconvert_exporter": "python",
   "pygments_lexer": "ipython3",
   "version": "3.8.12"
  }
 },
 "nbformat": 4,
 "nbformat_minor": 5
}
